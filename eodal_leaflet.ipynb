{
 "cells": [
  {
   "cell_type": "markdown",
   "metadata": {},
   "source": [
    "# Test the ipyleaflet application\n",
    "- general setup with OSM basemap\n",
    "- exp different basemaps"
   ]
  },
  {
   "cell_type": "code",
   "execution_count": 30,
   "metadata": {},
   "outputs": [],
   "source": [
    "import numpy as np\n",
    "import rasterio as rio\n",
    "from pathlib import Path\n",
    "\n",
    "data_dir = Path(\"./data\")\n",
    "\n",
    "fname = \"2023-06-03_S2_WGS84\"\n",
    "path_infile_tiff = data_dir.joinpath(fname + \".tiff\")\n",
    "# full paths: /home/gperich/Projects/EOdal_data_viewer_GPL3/data/2023-06-03_S2_WGS84.tiff\n",
    "# full path required for in_file\n",
    "fullpath_infile_png = str(data_dir.joinpath(fname + \".png\").absolute())\n",
    "\n",
    "# path_infile_tiff = data_dir.joinpath()\n",
    "# fullpath_infile_png = str(data_dir.joinpath(\"test.tiff\").absolute())\n",
    "\n",
    "# read in the created TIFF to allow geolocalization\n",
    "with rio.open(path_infile_tiff) as src:\n",
    "    boundary = src.bounds\n",
    "    img = src.read()\n",
    "    nodata = src.nodata    \n",
    "\n",
    "img[img<=0.0] = np.nan\n",
    "\n",
    "# calculate the center of the supplied TIFF\n",
    "calc_lat = (boundary.bottom + boundary.top)/2\n",
    "calc_lon = (boundary.left + boundary.right)/2\n",
    "\n",
    "# calculate the boundaries used by ImageOverlay (SW, NE)\n",
    "img_bounds = ((boundary.bottom, boundary.left), (boundary.top, boundary.right))"
   ]
  },
  {
   "cell_type": "code",
   "execution_count": 32,
   "metadata": {},
   "outputs": [
    {
     "data": {
      "application/vnd.jupyter.widget-view+json": {
       "model_id": "e7d319dd76f0494cbf0a099e2adab7e7",
       "version_major": 2,
       "version_minor": 0
      },
      "text/plain": [
       "Map(center=[46.989498403789895, 7.065792528929219], controls=(ZoomControl(options=['position', 'zoom_in_text',…"
      ]
     },
     "metadata": {},
     "output_type": "display_data"
    }
   ],
   "source": [
    "from ipyleaflet import Map, Marker, ImageOverlay\n",
    "\n",
    "center = (calc_lat, calc_lon)\n",
    "\n",
    "m = Map(center=center, zoom=12)\n",
    "\n",
    "marker = Marker(location=center, draggable=True)\n",
    "m.add_layer(marker)\n",
    "\n",
    "image = ImageOverlay(\n",
    "    url=fullpath_infile_png, \n",
    "    bounds=img_bounds\n",
    ")\n",
    "\n",
    "m.add_layer(image);\n",
    "\n",
    "display(m)\n"
   ]
  },
  {
   "cell_type": "code",
   "execution_count": null,
   "metadata": {},
   "outputs": [],
   "source": []
  }
 ],
 "metadata": {
  "kernelspec": {
   "display_name": ".venv",
   "language": "python",
   "name": "python3"
  },
  "language_info": {
   "codemirror_mode": {
    "name": "ipython",
    "version": 3
   },
   "file_extension": ".py",
   "mimetype": "text/x-python",
   "name": "python",
   "nbconvert_exporter": "python",
   "pygments_lexer": "ipython3",
   "version": "3.11.5"
  },
  "orig_nbformat": 4
 },
 "nbformat": 4,
 "nbformat_minor": 2
}
