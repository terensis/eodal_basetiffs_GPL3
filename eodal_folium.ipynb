{
 "cells": [
  {
   "cell_type": "markdown",
   "metadata": {},
   "source": [
    "# Test the folium application\n",
    "Make foliumm maps that include the EOdal generated S2 images"
   ]
  },
  {
   "cell_type": "code",
   "execution_count": 1,
   "metadata": {},
   "outputs": [],
   "source": [
    "# load packages\n",
    "import folium\n",
    "import numpy as np\n",
    "import leafmap\n",
    "import rasterio as rio\n",
    "import branca.colormap as cm\n",
    "import ipywidgets as widgets\n",
    "from matplotlib import colors as colors\n",
    "import matplotlib as mpl\n",
    "import matplotlib.pyplot as plt\n",
    "from pathlib import Path\n",
    "from datetime import date\n",
    "from glob import glob\n",
    "\n",
    "from ipywidgets import interact, fixed\n",
    "from IPython.display import display"
   ]
  },
  {
   "cell_type": "markdown",
   "metadata": {},
   "source": [
    "### list available files"
   ]
  },
  {
   "cell_type": "code",
   "execution_count": 2,
   "metadata": {},
   "outputs": [],
   "source": [
    "# User inputs\n",
    "aoi_name = \"SH\"\n",
    "satellite_tiffs_dir = Path(f\"./{aoi_name}\")\n",
    "\n",
    "path_str = satellite_tiffs_dir.absolute()\n",
    "filelist = [x for x in path_str.glob(\"*.tiff\")]\n",
    "date_list = np.sort([x.stem.split('_')[0] for x in filelist])"
   ]
  },
  {
   "cell_type": "markdown",
   "metadata": {},
   "source": [
    "### Widgets"
   ]
  },
  {
   "cell_type": "code",
   "execution_count": 3,
   "metadata": {},
   "outputs": [],
   "source": [
    "dropdown_band_selection = widgets.Dropdown(\n",
    "    options=['RGB', 'NDVI'],\n",
    "    value='RGB',\n",
    "    description='Display:',\n",
    "    disabled=False,\n",
    ")\n",
    "\n",
    "date_slider = widgets.SelectionSlider(\n",
    "    options=date_list,\n",
    "    value=date_list[-1],\n",
    "    description='Select a date ',\n",
    "    disabled=False,\n",
    "    continuous_update=False,\n",
    "    orientation='horizontal',\n",
    "    readout=True\n",
    ")"
   ]
  },
  {
   "cell_type": "code",
   "execution_count": 4,
   "metadata": {},
   "outputs": [
    {
     "data": {
      "application/vnd.jupyter.widget-view+json": {
       "model_id": "13b755f3451a4c7f9b4b834b0ddca1c1",
       "version_major": 2,
       "version_minor": 0
      },
      "text/plain": [
       "interactive(children=(SelectionSlider(continuous_update=False, description='Select a date ', index=3, options=…"
      ]
     },
     "metadata": {},
     "output_type": "display_data"
    }
   ],
   "source": [
    "%matplotlib inline\n",
    "@interact(selected_date=date_slider, band_selection=dropdown_band_selection)\n",
    "def show_s2_image(selected_date: date, band_selection: str):\n",
    "\n",
    "    fname = f\"{selected_date}_{aoi_name}_WGS84.tiff\"\n",
    "    path_infile_tiff = satellite_tiffs_dir.joinpath(fname)\n",
    "\n",
    "    # read in the created TIFF to allow geolocalization\n",
    "    with rio.open(path_infile_tiff) as src:\n",
    "        boundary = src.bounds\n",
    "        img = src.read()  \n",
    "        img[img == 1e+20] = 0\n",
    "\n",
    "    # calculate the center of the supplied TIFF\n",
    "    calc_lat = (boundary.bottom + boundary.top)/2\n",
    "    calc_lon = (boundary.left + boundary.right)/2\n",
    "\n",
    "    # calculate the boundaries used by ImageOverlay (SW, NE)\n",
    "    img_bounds = ((boundary.bottom, boundary.left), (boundary.top, boundary.right))\n",
    "\n",
    "    # Folium expects (Y, X, BANDS) format\n",
    "    if band_selection == 'RGB':\n",
    "        # rearrange the image\n",
    "        img_rearranged = np.moveaxis(img[0:3,:,:], 0, -1)\n",
    "        # get the mask\n",
    "        mask = img_rearranged[:,:,0] == 0\n",
    "\n",
    "        temp_img = np.ones(shape=[img_rearranged.shape[0], img_rearranged.shape[1], 4], dtype=np.uint8)\n",
    "        temp_img[:, :, 1:4] = (img_rearranged*255).astype(np.uint8)\n",
    "        temp_img[mask, 0] = 255\n",
    "        \n",
    "    elif band_selection == 'NDVI':\n",
    "        temp_img = (img[-1,:,:]*255).astype(np.uint8)\n",
    "\n",
    "    img_for_plot = temp_img\n",
    "    center = (calc_lat, calc_lon)\n",
    "\n",
    "    m = folium.Map(center, zoom_level=15)\n",
    "\n",
    "    if band_selection == 'RGB':\n",
    "        folium.raster_layers.ImageOverlay(\n",
    "            image=img_for_plot[:, :, 1::],\n",
    "            name=fname,\n",
    "            bounds=img_bounds,\n",
    "            opacity=1.\n",
    "        ).add_to(m)\n",
    "\n",
    "    elif band_selection == 'NDVI':\n",
    "        folium.raster_layers.ImageOverlay(\n",
    "            image=img_for_plot,\n",
    "            name=fname,\n",
    "            bounds=img_bounds,\n",
    "            opacity=1.\n",
    "        ).add_to(m)\n",
    "\n",
    "    folium.LayerControl().add_to(m)\n",
    "\n",
    "    display(m)"
   ]
  }
 ],
 "metadata": {
  "kernelspec": {
   "display_name": ".venv",
   "language": "python",
   "name": "python3"
  },
  "language_info": {
   "codemirror_mode": {
    "name": "ipython",
    "version": 3
   },
   "file_extension": ".py",
   "mimetype": "text/x-python",
   "name": "python",
   "nbconvert_exporter": "python",
   "pygments_lexer": "ipython3",
   "version": "3.11.5"
  },
  "orig_nbformat": 4
 },
 "nbformat": 4,
 "nbformat_minor": 2
}
